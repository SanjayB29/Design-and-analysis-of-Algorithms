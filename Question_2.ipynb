{
  "cells": [
    {
      "cell_type": "code",
      "execution_count": 1,
      "metadata": {
        "id": "zpfeaYRgFZej"
      },
      "outputs": [],
      "source": [
        "def split_array(l,k):\n",
        "    n = len(l)\n",
        "    size = n//k\n",
        "    rem = n%k\n",
        "    start = 0\n",
        "    sub = []\n",
        "    for i in range (k):\n",
        "        end = start + size\n",
        "        sub.append(l[start:end])\n",
        "        start = end\n",
        "\n",
        "    if rem > 0:\n",
        "        sub[-1].extend(l[end:])\n",
        "    return sub\n"
      ]
    },
    {
      "cell_type": "code",
      "execution_count": 2,
      "metadata": {
        "id": "aR7EMXskFZel"
      },
      "outputs": [],
      "source": [
        "def insertion_sort(arr):\n",
        "    for i in range(1, len(arr)):\n",
        "        key = arr[i]\n",
        "        j = i - 1\n",
        "        while j >= 0 and key < arr[j]:\n",
        "            arr[j + 1] = arr[j]\n",
        "            j -= 1\n",
        "        arr[j + 1] = key\n"
      ]
    },
    {
      "cell_type": "code",
      "execution_count": 3,
      "metadata": {
        "id": "bnFBqAzeFZel"
      },
      "outputs": [],
      "source": [
        "def merge_sorted_arrays(arrays,num_arrays):\n",
        "    # num_arrays = len(arrays)\n",
        "    total_elements = sum(len(arr) for arr in arrays)\n",
        "    pointers = [0] * num_arrays\n",
        "    result_array = [0] * total_elements\n",
        "\n",
        "    for t in range(1, total_elements + 1):\n",
        "        max_element = float(\"-inf\")\n",
        "        max_element_array_index = -1\n",
        "\n",
        "        for i in range(num_arrays):\n",
        "            current_array_length = len(arrays[i])\n",
        "            if (\n",
        "                pointers[i] < current_array_length\n",
        "                and max_element < arrays[i][current_array_length - pointers[i] - 1]\n",
        "            ):\n",
        "                max_element = arrays[i][current_array_length - pointers[i] - 1]\n",
        "                max_element_array_index = i\n",
        "\n",
        "        result_array[total_elements - t] = max_element\n",
        "        pointers[max_element_array_index] += 1\n",
        "\n",
        "    return result_array\n",
        "\n"
      ]
    },
    {
      "cell_type": "code",
      "execution_count": 4,
      "metadata": {
        "id": "1Ff5ArNZGfFq"
      },
      "outputs": [],
      "source": [
        "def merge_sort(arr):\n",
        "    if len(arr) > 1:\n",
        "        mid = len(arr) // 2\n",
        "        left_half = arr[:mid]\n",
        "        right_half = arr[mid:]\n",
        "        merge_sort(right_half)\n",
        "        i,j,k=0,0,0\n",
        "        while i < len(left_half) and j < len(right_half):\n",
        "            if left_half[i] < right_half[j]:\n",
        "                arr[k] = left_half[i]\n",
        "                i += 1\n",
        "            else:\n",
        "                arr[k] = right_half[j]\n",
        "                j += 1\n",
        "            k += 1\n",
        "\n",
        "        while i < len(left_half):\n",
        "            arr[k] = left_half[i]\n",
        "            i += 1\n",
        "            k += 1\n",
        "\n",
        "        while j < len(right_half):\n",
        "            arr[k] = right_half[j]\n",
        "            j += 1\n",
        "            k += 1\n"
      ]
    },
    {
      "cell_type": "code",
      "execution_count": null,
      "metadata": {
        "colab": {
          "base_uri": "https://localhost:8080/",
          "height": 472
        },
        "id": "N-HXSIvJFZel",
        "outputId": "c398131a-2065-4451-f65f-b2b8f33d8512"
      },
      "outputs": [],
      "source": [
        "import random\n",
        "import time\n",
        "import matplotlib.pyplot as plt\n",
        "\n",
        "# random.seed=42\n",
        "l=[random.randint(1,101) for i in range(100)]\n",
        "ll=[]+l\n",
        "\n",
        "time_taken=[]\n",
        "\n",
        "for i in range(1,21):\n",
        "    start_time=time.time()\n",
        "    k=split_array(l,i)\n",
        "    for j in k:\n",
        "        insertion_sort(j)\n",
        "    end_time=time.time()\n",
        "    time_taken.append((end_time-start_time))\n",
        "\n",
        "time_taken_merge=[]\n",
        "for i in range(1,21):\n",
        "    start_time_merge=time.time()\n",
        "    k=split_array(ll,i)\n",
        "    for j in k:\n",
        "        merge_sort(j)\n",
        "    end_time_merge=time.time()\n",
        "    time_taken_merge.append((end_time_merge-start_time_merge))\n",
        "\n",
        "\n",
        "data1 = time_taken\n",
        "data2 = time_taken_merge\n",
        "indices = list(range(len(time_taken)),)\n",
        "\n",
        "plt.plot(indices, data1, label='k-split-insertion-sort', color='blue')\n",
        "plt.plot(indices, data2, label='k-split-merge-sort', color='red')\n",
        "plt.xlabel('K')\n",
        "plt.ylabel('Time')\n",
        "plt.title('Scatter Plot of Time & K')\n",
        "plt.legend()\n",
        "\n",
        "plt.show()"
      ]
    }
  ],
  "metadata": {
    "colab": {
      "provenance": []
    },
    "kernelspec": {
      "display_name": "Python 3",
      "language": "python",
      "name": "python3"
    },
    "language_info": {
      "codemirror_mode": {
        "name": "ipython",
        "version": 3
      },
      "file_extension": ".py",
      "mimetype": "text/x-python",
      "name": "python",
      "nbconvert_exporter": "python",
      "pygments_lexer": "ipython3",
      "version": "3.11.4"
    },
    "orig_nbformat": 4
  },
  "nbformat": 4,
  "nbformat_minor": 0
}
